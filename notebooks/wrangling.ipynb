{
 "cells": [
  {
   "cell_type": "code",
   "execution_count": 752,
   "metadata": {
    "collapsed": true
   },
   "outputs": [],
   "source": [
    "import pandas as pd\n",
    "import matplotlib as plt\n",
    "import numpy as np\n",
    "%matplotlib inline"
   ]
  },
  {
   "cell_type": "code",
   "execution_count": 753,
   "metadata": {
    "collapsed": false
   },
   "outputs": [],
   "source": [
    "df = pd.read_csv('/Users/arge/Downloads/stlthmd_task/data/processed/final_data.csv',\n",
    "                 sep='\\t',\n",
    "                 lineterminator='\\n',\n",
    "                 header=None,\n",
    "                 names=['domain', 'doc_id', 'line', 'section', 'sentence', 'annotator_1', 'annotator_2', 'annotator_3'])"
   ]
  },
  {
   "cell_type": "code",
   "execution_count": 754,
   "metadata": {
    "collapsed": false
   },
   "outputs": [
    {
     "data": {
      "text/plain": [
       "domain         False\n",
       "doc_id         False\n",
       "line           False\n",
       "section        False\n",
       "sentence       False\n",
       "annotator_1    False\n",
       "annotator_2    False\n",
       "annotator_3    False\n",
       "dtype: bool"
      ]
     },
     "execution_count": 754,
     "metadata": {},
     "output_type": "execute_result"
    }
   ],
   "source": [
    "pd.isnull(df).any()"
   ]
  },
  {
   "cell_type": "code",
   "execution_count": 755,
   "metadata": {
    "collapsed": false
   },
   "outputs": [
    {
     "data": {
      "text/html": [
       "<div>\n",
       "<table border=\"1\" class=\"dataframe\">\n",
       "  <thead>\n",
       "    <tr style=\"text-align: right;\">\n",
       "      <th></th>\n",
       "      <th>domain</th>\n",
       "      <th>doc_id</th>\n",
       "      <th>line</th>\n",
       "      <th>section</th>\n",
       "      <th>sentence</th>\n",
       "      <th>annotator_1</th>\n",
       "      <th>annotator_2</th>\n",
       "      <th>annotator_3</th>\n",
       "    </tr>\n",
       "  </thead>\n",
       "  <tbody>\n",
       "    <tr>\n",
       "      <th>0</th>\n",
       "      <td>arxiv</td>\n",
       "      <td>annotate10_7</td>\n",
       "      <td>10</td>\n",
       "      <td>introduction</td>\n",
       "      <td>The MDL or MAP (maximum a posteriori) estimato...</td>\n",
       "      <td>MISC</td>\n",
       "      <td>MISC</td>\n",
       "      <td>MISC</td>\n",
       "    </tr>\n",
       "    <tr>\n",
       "      <th>1</th>\n",
       "      <td>arxiv</td>\n",
       "      <td>annotate10_7</td>\n",
       "      <td>11</td>\n",
       "      <td>introduction</td>\n",
       "      <td>In practice, the MDL estimator is usually bein...</td>\n",
       "      <td>MISC</td>\n",
       "      <td>MISC</td>\n",
       "      <td>MISC</td>\n",
       "    </tr>\n",
       "    <tr>\n",
       "      <th>2</th>\n",
       "      <td>arxiv</td>\n",
       "      <td>annotate10_7</td>\n",
       "      <td>12</td>\n",
       "      <td>introduction</td>\n",
       "      <td>How good are the predictions by Bayes mixtures...</td>\n",
       "      <td>MISC</td>\n",
       "      <td>MISC</td>\n",
       "      <td>MISC</td>\n",
       "    </tr>\n",
       "    <tr>\n",
       "      <th>3</th>\n",
       "      <td>arxiv</td>\n",
       "      <td>annotate10_7</td>\n",
       "      <td>13</td>\n",
       "      <td>introduction</td>\n",
       "      <td>This question has attracted much attention</td>\n",
       "      <td>MISC</td>\n",
       "      <td>MISC</td>\n",
       "      <td>MISC</td>\n",
       "    </tr>\n",
       "    <tr>\n",
       "      <th>4</th>\n",
       "      <td>arxiv</td>\n",
       "      <td>annotate10_7</td>\n",
       "      <td>14</td>\n",
       "      <td>introduction</td>\n",
       "      <td>In many cases, an important quality measure is...</td>\n",
       "      <td>MISC</td>\n",
       "      <td>MISC</td>\n",
       "      <td>MISC</td>\n",
       "    </tr>\n",
       "  </tbody>\n",
       "</table>\n",
       "</div>"
      ],
      "text/plain": [
       "  domain         doc_id  line       section  \\\n",
       "0  arxiv   annotate10_7    10  introduction   \n",
       "1  arxiv   annotate10_7    11  introduction   \n",
       "2  arxiv   annotate10_7    12  introduction   \n",
       "3  arxiv   annotate10_7    13  introduction   \n",
       "4  arxiv   annotate10_7    14  introduction   \n",
       "\n",
       "                                            sentence annotator_1 annotator_2  \\\n",
       "0  The MDL or MAP (maximum a posteriori) estimato...        MISC        MISC   \n",
       "1  In practice, the MDL estimator is usually bein...        MISC        MISC   \n",
       "2  How good are the predictions by Bayes mixtures...        MISC        MISC   \n",
       "3         This question has attracted much attention        MISC        MISC   \n",
       "4  In many cases, an important quality measure is...        MISC        MISC   \n",
       "\n",
       "  annotator_3  \n",
       "0        MISC  \n",
       "1        MISC  \n",
       "2        MISC  \n",
       "3        MISC  \n",
       "4        MISC  "
      ]
     },
     "execution_count": 755,
     "metadata": {},
     "output_type": "execute_result"
    }
   ],
   "source": [
    "df.head()"
   ]
  },
  {
   "cell_type": "code",
   "execution_count": 756,
   "metadata": {
    "collapsed": true
   },
   "outputs": [],
   "source": [
    "# cell values must be trimmed to eliminate whitespaces\n",
    "df_obj = df.select_dtypes(['object'])\n",
    "df[df_obj.columns] = df_obj.apply(lambda x: x.str.strip())"
   ]
  },
  {
   "cell_type": "code",
   "execution_count": 757,
   "metadata": {
    "collapsed": false
   },
   "outputs": [
    {
     "data": {
      "text/html": [
       "<div>\n",
       "<table border=\"1\" class=\"dataframe\">\n",
       "  <thead>\n",
       "    <tr style=\"text-align: right;\">\n",
       "      <th></th>\n",
       "      <th>section</th>\n",
       "      <th>sentence</th>\n",
       "    </tr>\n",
       "  </thead>\n",
       "  <tbody>\n",
       "    <tr>\n",
       "      <th>25</th>\n",
       "      <td>introduction</td>\n",
       "      <td>In the present work, we concentrate on the sim...</td>\n",
       "    </tr>\n",
       "    <tr>\n",
       "      <th>26</th>\n",
       "      <td>introduction</td>\n",
       "      <td>Note that then the MDL ``predictor\" just becom...</td>\n",
       "    </tr>\n",
       "    <tr>\n",
       "      <th>27</th>\n",
       "      <td>introduction</td>\n",
       "      <td>Nevertheless, for consistency of terminology, ...</td>\n",
       "    </tr>\n",
       "    <tr>\n",
       "      <th>28</th>\n",
       "      <td>introduction</td>\n",
       "      <td>It might be surprising to discover that in gen...</td>\n",
       "    </tr>\n",
       "    <tr>\n",
       "      <th>29</th>\n",
       "      <td>introduction</td>\n",
       "      <td>On the other hand, we will give mild condition...</td>\n",
       "    </tr>\n",
       "    <tr>\n",
       "      <th>30</th>\n",
       "      <td>introduction</td>\n",
       "      <td>Moreover, it is well-known that the instantane...</td>\n",
       "    </tr>\n",
       "    <tr>\n",
       "      <th>31</th>\n",
       "      <td>introduction</td>\n",
       "      <td>The same holds for MDL, as we will see</td>\n",
       "    </tr>\n",
       "    <tr>\n",
       "      <th>32</th>\n",
       "      <td>abstract</td>\n",
       "      <td>For MDL, in general one can only have loss bou...</td>\n",
       "    </tr>\n",
       "    <tr>\n",
       "      <th>33</th>\n",
       "      <td>introduction</td>\n",
       "      <td>If convergence speed is measured in terms of i...</td>\n",
       "    </tr>\n",
       "    <tr>\n",
       "      <th>34</th>\n",
       "      <td>introduction</td>\n",
       "      <td>A particular motivation to consider discrete m...</td>\n",
       "    </tr>\n",
       "    <tr>\n",
       "      <th>35</th>\n",
       "      <td>introduction</td>\n",
       "      <td>From a computational point of view, the larges...</td>\n",
       "    </tr>\n",
       "    <tr>\n",
       "      <th>36</th>\n",
       "      <td>introduction</td>\n",
       "      <td>Thus each model corresponds to a program, and ...</td>\n",
       "    </tr>\n",
       "    <tr>\n",
       "      <th>37</th>\n",
       "      <td>introduction</td>\n",
       "      <td>Moreover, the models are stochastic, precisely...</td>\n",
       "    </tr>\n",
       "    <tr>\n",
       "      <th>38</th>\n",
       "      <td>introduction</td>\n",
       "      <td>Each model has a natural description length, n...</td>\n",
       "    </tr>\n",
       "    <tr>\n",
       "      <th>39</th>\n",
       "      <td>introduction</td>\n",
       "      <td>If we agree that programs are binary strings, ...</td>\n",
       "    </tr>\n",
       "    <tr>\n",
       "      <th>40</th>\n",
       "      <td>introduction</td>\n",
       "      <td>By the Kraft inequality, the priors sum up to ...</td>\n",
       "    </tr>\n",
       "    <tr>\n",
       "      <th>41</th>\n",
       "      <td>introduction</td>\n",
       "      <td>Also the Bernoulli case can be studied in the ...</td>\n",
       "    </tr>\n",
       "    <tr>\n",
       "      <th>42</th>\n",
       "      <td>introduction</td>\n",
       "      <td>We call this the  universal setup : Given a un...</td>\n",
       "    </tr>\n",
       "    <tr>\n",
       "      <th>43</th>\n",
       "      <td>abstract</td>\n",
       "      <td>We show that this is even the case if the mode...</td>\n",
       "    </tr>\n",
       "    <tr>\n",
       "      <th>44</th>\n",
       "      <td>introduction</td>\n",
       "      <td>The description length  SYMBOL  of a parameter...</td>\n",
       "    </tr>\n",
       "    <tr>\n",
       "      <th>45</th>\n",
       "      <td>introduction</td>\n",
       "      <td>A prior weight may then be defined by  SYMBOL</td>\n",
       "    </tr>\n",
       "    <tr>\n",
       "      <th>46</th>\n",
       "      <td>introduction</td>\n",
       "      <td>If a string  SYMBOL  is generated by a Bernoul...</td>\n",
       "    </tr>\n",
       "    <tr>\n",
       "      <th>47</th>\n",
       "      <td>introduction</td>\n",
       "      <td>That is, the two-part complexity with respect ...</td>\n",
       "    </tr>\n",
       "    <tr>\n",
       "      <th>48</th>\n",
       "      <td>introduction</td>\n",
       "      <td>Many Machine Learning tasks are or can be redu...</td>\n",
       "    </tr>\n",
       "    <tr>\n",
       "      <th>49</th>\n",
       "      <td>introduction</td>\n",
       "      <td>An important example is classification</td>\n",
       "    </tr>\n",
       "  </tbody>\n",
       "</table>\n",
       "</div>"
      ],
      "text/plain": [
       "         section                                           sentence\n",
       "25  introduction  In the present work, we concentrate on the sim...\n",
       "26  introduction  Note that then the MDL ``predictor\" just becom...\n",
       "27  introduction  Nevertheless, for consistency of terminology, ...\n",
       "28  introduction  It might be surprising to discover that in gen...\n",
       "29  introduction  On the other hand, we will give mild condition...\n",
       "30  introduction  Moreover, it is well-known that the instantane...\n",
       "31  introduction             The same holds for MDL, as we will see\n",
       "32      abstract  For MDL, in general one can only have loss bou...\n",
       "33  introduction  If convergence speed is measured in terms of i...\n",
       "34  introduction  A particular motivation to consider discrete m...\n",
       "35  introduction  From a computational point of view, the larges...\n",
       "36  introduction  Thus each model corresponds to a program, and ...\n",
       "37  introduction  Moreover, the models are stochastic, precisely...\n",
       "38  introduction  Each model has a natural description length, n...\n",
       "39  introduction  If we agree that programs are binary strings, ...\n",
       "40  introduction  By the Kraft inequality, the priors sum up to ...\n",
       "41  introduction  Also the Bernoulli case can be studied in the ...\n",
       "42  introduction  We call this the  universal setup : Given a un...\n",
       "43      abstract  We show that this is even the case if the mode...\n",
       "44  introduction  The description length  SYMBOL  of a parameter...\n",
       "45  introduction      A prior weight may then be defined by  SYMBOL\n",
       "46  introduction  If a string  SYMBOL  is generated by a Bernoul...\n",
       "47  introduction  That is, the two-part complexity with respect ...\n",
       "48  introduction  Many Machine Learning tasks are or can be redu...\n",
       "49  introduction             An important example is classification"
      ]
     },
     "execution_count": 757,
     "metadata": {},
     "output_type": "execute_result"
    }
   ],
   "source": [
    "df.iloc[25:50,3:5]"
   ]
  },
  {
   "cell_type": "code",
   "execution_count": 758,
   "metadata": {
    "collapsed": false
   },
   "outputs": [
    {
     "name": "stdout",
     "output_type": "stream",
     "text": [
      "838\n",
      "201\n"
     ]
    }
   ],
   "source": [
    "print len(df[df['section'] == 'introduction'])\n",
    "print len(df[df['section'] == 'abstract'])"
   ]
  },
  {
   "cell_type": "code",
   "execution_count": 759,
   "metadata": {
    "collapsed": false
   },
   "outputs": [
    {
     "name": "stdout",
     "output_type": "stream",
     "text": [
      "Max Line:  77\n"
     ]
    },
    {
     "data": {
      "image/png": "[encoded data removed]",
      "text/plain": [
       "<matplotlib.figure.Figure at 0x1316ac9d0>"
      ]
     },
     "metadata": {},
     "output_type": "display_data"
    }
   ],
   "source": [
    "line_counts = df.groupby(['domain', 'doc_id']).size()\n",
    "line_counts.hist(bins=20)\n",
    "print 'Max Line: ', df[\"line\"].max()"
   ]
  },
  {
   "cell_type": "code",
   "execution_count": 760,
   "metadata": {
    "collapsed": false
   },
   "outputs": [
    {
     "data": {
      "text/plain": [
       "<matplotlib.legend.Legend at 0x131522150>"
      ]
     },
     "execution_count": 760,
     "metadata": {},
     "output_type": "execute_result"
    },
    {
     "data": {
      "image/png": "[encoded data removed]",
      "text/plain": [
       "<matplotlib.figure.Figure at 0x128a26450>"
      ]
     },
     "metadata": {},
     "output_type": "display_data"
    }
   ],
   "source": [
    "line_counts_by_section = df.groupby(['domain', 'doc_id', 'section']).size()\n",
    "line_counts_by_section = line_counts_by_section.unstack()\n",
    "my_plot = line_counts_by_section.sort_values(by=['introduction']).plot(kind='bar', stacked=True, title=\"Total Line Distribution Per Section\")\n",
    "my_plot.set_xlabel(\"Section\")\n",
    "my_plot.set_ylabel(\"Line Count\")\n",
    "my_plot.legend([\"Abstract\", \"Introduction\"], loc=9, ncol=4)"
   ]
  },
  {
   "cell_type": "code",
   "execution_count": 761,
   "metadata": {
    "collapsed": false,
    "scrolled": false
   },
   "outputs": [
    {
     "data": {
      "text/plain": [
       "<matplotlib.axes._subplots.AxesSubplot at 0x128ae2b50>"
      ]
     },
     "execution_count": 761,
     "metadata": {},
     "output_type": "execute_result"
    },
    {
     "data": {
      "image/png": "[encoded data removed]",
      "text/plain": [
       "<matplotlib.figure.Figure at 0x1289bc250>"
      ]
     },
     "metadata": {},
     "output_type": "display_data"
    }
   ],
   "source": [
    "annotator_1 = df.groupby('annotator_1').size()\n",
    "annotator_1.plot(kind='bar')"
   ]
  },
  {
   "cell_type": "code",
   "execution_count": 762,
   "metadata": {
    "collapsed": false
   },
   "outputs": [
    {
     "name": "stdout",
     "output_type": "stream",
     "text": [
      "0.763461385382\n",
      "0.701940515493\n",
      "0.71729096047\n"
     ]
    }
   ],
   "source": [
    "from sklearn.metrics import cohen_kappa_score\n",
    "print cohen_kappa_score(df[\"annotator_1\"], df[\"annotator_2\"], labels=None)\n",
    "print cohen_kappa_score(df[\"annotator_1\"], df[\"annotator_3\"], labels=None)\n",
    "print cohen_kappa_score(df[\"annotator_2\"], df[\"annotator_3\"], labels=None)"
   ]
  },
  {
   "cell_type": "code",
   "execution_count": 763,
   "metadata": {
    "collapsed": false
   },
   "outputs": [
    {
     "name": "stdout",
     "output_type": "stream",
     "text": [
      "39\n",
      "nan\n"
     ]
    }
   ],
   "source": [
    "df_kappa = df[(df['annotator_1'] == 'AIMX') & (df['annotator_2'] == 'AIMX') & (df['annotator_3'] == 'AIMX')]\n",
    "print len(df_kappa)\n",
    "print cohen_kappa_score(df_kappa[\"annotator_1\"], df_kappa[\"annotator_2\"], labels=None)"
   ]
  },
  {
   "cell_type": "code",
   "execution_count": 764,
   "metadata": {
    "collapsed": false
   },
   "outputs": [],
   "source": [
    "from collections import Counter\n",
    "def calculate_label(a1, a2, a3):\n",
    "    count = Counter([a1, a2, a3])\n",
    "    if len(count) == 3:\n",
    "        label = a3\n",
    "    elif len(count) == 2 and a1 == a2:\n",
    "        label = a2\n",
    "    else:\n",
    "        label = a3\n",
    "    \n",
    "    return label"
   ]
  },
  {
   "cell_type": "code",
   "execution_count": 765,
   "metadata": {
    "collapsed": false
   },
   "outputs": [],
   "source": [
    "df['final_label'] = df.apply(\n",
    "        lambda row: calculate_label(row['annotator_1'], row['annotator_2'], row['annotator_3']), axis=1)"
   ]
  },
  {
   "cell_type": "code",
   "execution_count": 766,
   "metadata": {
    "collapsed": true
   },
   "outputs": [],
   "source": [
    "df = df.drop([\"annotator_1\", \"annotator_2\", \"annotator_3\"], axis=1)"
   ]
  },
  {
   "cell_type": "code",
   "execution_count": 767,
   "metadata": {
    "collapsed": false
   },
   "outputs": [
    {
     "data": {
      "text/plain": [
       "final_label\n",
       "AIMX     63\n",
       "BASE     19\n",
       "CONT     44\n",
       "MISC    626\n",
       "OWNX    287\n",
       "dtype: int64"
      ]
     },
     "execution_count": 767,
     "metadata": {},
     "output_type": "execute_result"
    }
   ],
   "source": [
    "df.groupby([\"final_label\"]).size()"
   ]
  },
  {
   "cell_type": "code",
   "execution_count": 768,
   "metadata": {
    "collapsed": false
   },
   "outputs": [
    {
     "data": {
      "text/plain": [
       "<matplotlib.axes._subplots.AxesSubplot at 0x1314e3290>"
      ]
     },
     "execution_count": 768,
     "metadata": {},
     "output_type": "execute_result"
    },
    {
     "data": {
      "image/png": "[encoded data removed]",
      "text/plain": [
       "<matplotlib.figure.Figure at 0x1289370d0>"
      ]
     },
     "metadata": {},
     "output_type": "display_data"
    }
   ],
   "source": [
    "final_label = df.groupby('final_label').size()\n",
    "final_label.plot(kind='bar')"
   ]
  },
  {
   "cell_type": "code",
   "execution_count": 769,
   "metadata": {
    "collapsed": true
   },
   "outputs": [],
   "source": [
    "import re\n",
    "import string\n",
    "\n",
    "def line_word_length(line):\n",
    "    line.translate(None, string.punctuation)\n",
    "    words = line.split()\n",
    "    # words = re.split(\"[\\p{Punct}\\s]+\", line)\n",
    "    \n",
    "    return len(words)\n",
    "    "
   ]
  },
  {
   "cell_type": "code",
   "execution_count": 770,
   "metadata": {
    "collapsed": false
   },
   "outputs": [],
   "source": [
    "df['word_length'] = df['sentence'].apply(line_word_length)"
   ]
  },
  {
   "cell_type": "code",
   "execution_count": 771,
   "metadata": {
    "collapsed": false
   },
   "outputs": [
    {
     "data": {
      "text/html": [
       "<div>\n",
       "<table border=\"1\" class=\"dataframe\">\n",
       "  <thead>\n",
       "    <tr style=\"text-align: right;\">\n",
       "      <th></th>\n",
       "      <th>domain</th>\n",
       "      <th>doc_id</th>\n",
       "      <th>line</th>\n",
       "      <th>section</th>\n",
       "      <th>sentence</th>\n",
       "      <th>final_label</th>\n",
       "      <th>word_length</th>\n",
       "    </tr>\n",
       "  </thead>\n",
       "  <tbody>\n",
       "    <tr>\n",
       "      <th>45</th>\n",
       "      <td>arxiv</td>\n",
       "      <td>annotate10_7</td>\n",
       "      <td>51</td>\n",
       "      <td>introduction</td>\n",
       "      <td>A prior weight may then be defined by  SYMBOL</td>\n",
       "      <td>MISC</td>\n",
       "      <td>9</td>\n",
       "    </tr>\n",
       "    <tr>\n",
       "      <th>46</th>\n",
       "      <td>arxiv</td>\n",
       "      <td>annotate10_7</td>\n",
       "      <td>52</td>\n",
       "      <td>introduction</td>\n",
       "      <td>If a string  SYMBOL  is generated by a Bernoul...</td>\n",
       "      <td>MISC</td>\n",
       "      <td>46</td>\n",
       "    </tr>\n",
       "    <tr>\n",
       "      <th>47</th>\n",
       "      <td>arxiv</td>\n",
       "      <td>annotate10_7</td>\n",
       "      <td>53</td>\n",
       "      <td>introduction</td>\n",
       "      <td>That is, the two-part complexity with respect ...</td>\n",
       "      <td>MISC</td>\n",
       "      <td>20</td>\n",
       "    </tr>\n",
       "    <tr>\n",
       "      <th>48</th>\n",
       "      <td>arxiv</td>\n",
       "      <td>annotate10_7</td>\n",
       "      <td>54</td>\n",
       "      <td>introduction</td>\n",
       "      <td>Many Machine Learning tasks are or can be redu...</td>\n",
       "      <td>MISC</td>\n",
       "      <td>13</td>\n",
       "    </tr>\n",
       "    <tr>\n",
       "      <th>49</th>\n",
       "      <td>arxiv</td>\n",
       "      <td>annotate10_7</td>\n",
       "      <td>55</td>\n",
       "      <td>introduction</td>\n",
       "      <td>An important example is classification</td>\n",
       "      <td>MISC</td>\n",
       "      <td>5</td>\n",
       "    </tr>\n",
       "  </tbody>\n",
       "</table>\n",
       "</div>"
      ],
      "text/plain": [
       "   domain        doc_id  line       section  \\\n",
       "45  arxiv  annotate10_7    51  introduction   \n",
       "46  arxiv  annotate10_7    52  introduction   \n",
       "47  arxiv  annotate10_7    53  introduction   \n",
       "48  arxiv  annotate10_7    54  introduction   \n",
       "49  arxiv  annotate10_7    55  introduction   \n",
       "\n",
       "                                             sentence final_label  word_length  \n",
       "45      A prior weight may then be defined by  SYMBOL        MISC            9  \n",
       "46  If a string  SYMBOL  is generated by a Bernoul...        MISC           46  \n",
       "47  That is, the two-part complexity with respect ...        MISC           20  \n",
       "48  Many Machine Learning tasks are or can be redu...        MISC           13  \n",
       "49             An important example is classification        MISC            5  "
      ]
     },
     "execution_count": 771,
     "metadata": {},
     "output_type": "execute_result"
    }
   ],
   "source": [
    "df.iloc[45:50,:]"
   ]
  },
  {
   "cell_type": "code",
   "execution_count": 772,
   "metadata": {
    "collapsed": false
   },
   "outputs": [],
   "source": [
    "def has_entity(line, entity):\n",
    "    if entity in line:\n",
    "        return 1\n",
    "    else:\n",
    "        return 0"
   ]
  },
  {
   "cell_type": "code",
   "execution_count": 773,
   "metadata": {
    "collapsed": false
   },
   "outputs": [],
   "source": [
    "df['has_citation'] = df['sentence'].apply(lambda row: has_entity(row, 'CITATION'))\n",
    "df['has_symbol'] = df['sentence'].apply(lambda row: has_entity(row, 'SYMBOL'))\n",
    "df['has_number'] = df['sentence'].apply(lambda row: has_entity(row, 'NUMBER'))"
   ]
  },
  {
   "cell_type": "code",
   "execution_count": 774,
   "metadata": {
    "collapsed": true
   },
   "outputs": [],
   "source": [
    "from sklearn.preprocessing import LabelEncoder\n",
    "\n",
    "encoder = LabelEncoder()\n",
    "df[\"domain\"] = encoder.fit_transform(df[\"domain\"])\n",
    "df[\"section\"] = encoder.fit_transform(df[\"section\"])"
   ]
  },
  {
   "cell_type": "code",
   "execution_count": 775,
   "metadata": {
    "collapsed": false
   },
   "outputs": [],
   "source": [
    "# df = df.drop([\"has_symbol\", \"has_number\", \"has_citation\"], axis=1)"
   ]
  },
  {
   "cell_type": "code",
   "execution_count": 776,
   "metadata": {
    "collapsed": false
   },
   "outputs": [
    {
     "data": {
      "text/html": [
       "<div>\n",
       "<table border=\"1\" class=\"dataframe\">\n",
       "  <thead>\n",
       "    <tr style=\"text-align: right;\">\n",
       "      <th></th>\n",
       "      <th>domain</th>\n",
       "      <th>line</th>\n",
       "      <th>section</th>\n",
       "      <th>word_length</th>\n",
       "      <th>has_citation</th>\n",
       "      <th>has_symbol</th>\n",
       "      <th>has_number</th>\n",
       "    </tr>\n",
       "  </thead>\n",
       "  <tbody>\n",
       "    <tr>\n",
       "      <th>domain</th>\n",
       "      <td>1.000000</td>\n",
       "      <td>0.030831</td>\n",
       "      <td>-0.050690</td>\n",
       "      <td>0.165941</td>\n",
       "      <td>0.170548</td>\n",
       "      <td>-0.411161</td>\n",
       "      <td>-0.130037</td>\n",
       "    </tr>\n",
       "    <tr>\n",
       "      <th>line</th>\n",
       "      <td>0.030831</td>\n",
       "      <td>1.000000</td>\n",
       "      <td>0.532706</td>\n",
       "      <td>-0.011064</td>\n",
       "      <td>0.021309</td>\n",
       "      <td>-0.033907</td>\n",
       "      <td>-0.049572</td>\n",
       "    </tr>\n",
       "    <tr>\n",
       "      <th>section</th>\n",
       "      <td>-0.050690</td>\n",
       "      <td>0.532706</td>\n",
       "      <td>1.000000</td>\n",
       "      <td>0.059334</td>\n",
       "      <td>0.294906</td>\n",
       "      <td>0.026158</td>\n",
       "      <td>-0.018502</td>\n",
       "    </tr>\n",
       "    <tr>\n",
       "      <th>word_length</th>\n",
       "      <td>0.165941</td>\n",
       "      <td>-0.011064</td>\n",
       "      <td>0.059334</td>\n",
       "      <td>1.000000</td>\n",
       "      <td>0.264876</td>\n",
       "      <td>-0.040224</td>\n",
       "      <td>0.077633</td>\n",
       "    </tr>\n",
       "    <tr>\n",
       "      <th>has_citation</th>\n",
       "      <td>0.170548</td>\n",
       "      <td>0.021309</td>\n",
       "      <td>0.294906</td>\n",
       "      <td>0.264876</td>\n",
       "      <td>1.000000</td>\n",
       "      <td>-0.066644</td>\n",
       "      <td>-0.054024</td>\n",
       "    </tr>\n",
       "    <tr>\n",
       "      <th>has_symbol</th>\n",
       "      <td>-0.411161</td>\n",
       "      <td>-0.033907</td>\n",
       "      <td>0.026158</td>\n",
       "      <td>-0.040224</td>\n",
       "      <td>-0.066644</td>\n",
       "      <td>1.000000</td>\n",
       "      <td>-0.050957</td>\n",
       "    </tr>\n",
       "    <tr>\n",
       "      <th>has_number</th>\n",
       "      <td>-0.130037</td>\n",
       "      <td>-0.049572</td>\n",
       "      <td>-0.018502</td>\n",
       "      <td>0.077633</td>\n",
       "      <td>-0.054024</td>\n",
       "      <td>-0.050957</td>\n",
       "      <td>1.000000</td>\n",
       "    </tr>\n",
       "  </tbody>\n",
       "</table>\n",
       "</div>"
      ],
      "text/plain": [
       "                domain      line   section  word_length  has_citation  \\\n",
       "domain        1.000000  0.030831 -0.050690     0.165941      0.170548   \n",
       "line          0.030831  1.000000  0.532706    -0.011064      0.021309   \n",
       "section      -0.050690  0.532706  1.000000     0.059334      0.294906   \n",
       "word_length   0.165941 -0.011064  0.059334     1.000000      0.264876   \n",
       "has_citation  0.170548  0.021309  0.294906     0.264876      1.000000   \n",
       "has_symbol   -0.411161 -0.033907  0.026158    -0.040224     -0.066644   \n",
       "has_number   -0.130037 -0.049572 -0.018502     0.077633     -0.054024   \n",
       "\n",
       "              has_symbol  has_number  \n",
       "domain         -0.411161   -0.130037  \n",
       "line           -0.033907   -0.049572  \n",
       "section         0.026158   -0.018502  \n",
       "word_length    -0.040224    0.077633  \n",
       "has_citation   -0.066644   -0.054024  \n",
       "has_symbol      1.000000   -0.050957  \n",
       "has_number     -0.050957    1.000000  "
      ]
     },
     "execution_count": 776,
     "metadata": {},
     "output_type": "execute_result"
    }
   ],
   "source": [
    "df.corr(method='pearson')"
   ]
  },
  {
   "cell_type": "code",
   "execution_count": 777,
   "metadata": {
    "collapsed": false
   },
   "outputs": [
    {
     "data": {
      "text/plain": [
       "domain         -0.073055\n",
       "line            1.107134\n",
       "section        -1.554344\n",
       "word_length     1.011387\n",
       "has_citation    1.018629\n",
       "has_symbol      2.760846\n",
       "has_number      6.220639\n",
       "dtype: float64"
      ]
     },
     "execution_count": 777,
     "metadata": {},
     "output_type": "execute_result"
    }
   ],
   "source": [
    "df.skew()"
   ]
  },
  {
   "cell_type": "code",
   "execution_count": 778,
   "metadata": {
    "collapsed": false
   },
   "outputs": [
    {
     "data": {
      "text/html": [
       "<div>\n",
       "<table border=\"1\" class=\"dataframe\">\n",
       "  <thead>\n",
       "    <tr style=\"text-align: right;\">\n",
       "      <th></th>\n",
       "      <th>domain</th>\n",
       "      <th>line</th>\n",
       "      <th>section</th>\n",
       "      <th>word_length</th>\n",
       "      <th>has_citation</th>\n",
       "      <th>has_symbol</th>\n",
       "      <th>has_number</th>\n",
       "    </tr>\n",
       "  </thead>\n",
       "  <tbody>\n",
       "    <tr>\n",
       "      <th>count</th>\n",
       "      <td>1039.000000</td>\n",
       "      <td>1039.000000</td>\n",
       "      <td>1039.000000</td>\n",
       "      <td>1039.000000</td>\n",
       "      <td>1039.000000</td>\n",
       "      <td>1039.000000</td>\n",
       "      <td>1039.000000</td>\n",
       "    </tr>\n",
       "    <tr>\n",
       "      <th>mean</th>\n",
       "      <td>1.039461</td>\n",
       "      <td>21.008662</td>\n",
       "      <td>0.806545</td>\n",
       "      <td>24.653513</td>\n",
       "      <td>0.273340</td>\n",
       "      <td>0.095284</td>\n",
       "      <td>0.024062</td>\n",
       "    </tr>\n",
       "    <tr>\n",
       "      <th>std</th>\n",
       "      <td>0.820840</td>\n",
       "      <td>15.365581</td>\n",
       "      <td>0.395197</td>\n",
       "      <td>10.737957</td>\n",
       "      <td>0.445888</td>\n",
       "      <td>0.293748</td>\n",
       "      <td>0.153314</td>\n",
       "    </tr>\n",
       "    <tr>\n",
       "      <th>min</th>\n",
       "      <td>0.000000</td>\n",
       "      <td>1.000000</td>\n",
       "      <td>0.000000</td>\n",
       "      <td>5.000000</td>\n",
       "      <td>0.000000</td>\n",
       "      <td>0.000000</td>\n",
       "      <td>0.000000</td>\n",
       "    </tr>\n",
       "    <tr>\n",
       "      <th>25%</th>\n",
       "      <td>0.000000</td>\n",
       "      <td>9.000000</td>\n",
       "      <td>1.000000</td>\n",
       "      <td>17.000000</td>\n",
       "      <td>0.000000</td>\n",
       "      <td>0.000000</td>\n",
       "      <td>0.000000</td>\n",
       "    </tr>\n",
       "    <tr>\n",
       "      <th>50%</th>\n",
       "      <td>1.000000</td>\n",
       "      <td>18.000000</td>\n",
       "      <td>1.000000</td>\n",
       "      <td>23.000000</td>\n",
       "      <td>0.000000</td>\n",
       "      <td>0.000000</td>\n",
       "      <td>0.000000</td>\n",
       "    </tr>\n",
       "    <tr>\n",
       "      <th>75%</th>\n",
       "      <td>2.000000</td>\n",
       "      <td>29.000000</td>\n",
       "      <td>1.000000</td>\n",
       "      <td>30.000000</td>\n",
       "      <td>1.000000</td>\n",
       "      <td>0.000000</td>\n",
       "      <td>0.000000</td>\n",
       "    </tr>\n",
       "    <tr>\n",
       "      <th>max</th>\n",
       "      <td>2.000000</td>\n",
       "      <td>77.000000</td>\n",
       "      <td>1.000000</td>\n",
       "      <td>91.000000</td>\n",
       "      <td>1.000000</td>\n",
       "      <td>1.000000</td>\n",
       "      <td>1.000000</td>\n",
       "    </tr>\n",
       "  </tbody>\n",
       "</table>\n",
       "</div>"
      ],
      "text/plain": [
       "            domain         line      section  word_length  has_citation  \\\n",
       "count  1039.000000  1039.000000  1039.000000  1039.000000   1039.000000   \n",
       "mean      1.039461    21.008662     0.806545    24.653513      0.273340   \n",
       "std       0.820840    15.365581     0.395197    10.737957      0.445888   \n",
       "min       0.000000     1.000000     0.000000     5.000000      0.000000   \n",
       "25%       0.000000     9.000000     1.000000    17.000000      0.000000   \n",
       "50%       1.000000    18.000000     1.000000    23.000000      0.000000   \n",
       "75%       2.000000    29.000000     1.000000    30.000000      1.000000   \n",
       "max       2.000000    77.000000     1.000000    91.000000      1.000000   \n",
       "\n",
       "        has_symbol   has_number  \n",
       "count  1039.000000  1039.000000  \n",
       "mean      0.095284     0.024062  \n",
       "std       0.293748     0.153314  \n",
       "min       0.000000     0.000000  \n",
       "25%       0.000000     0.000000  \n",
       "50%       0.000000     0.000000  \n",
       "75%       0.000000     0.000000  \n",
       "max       1.000000     1.000000  "
      ]
     },
     "execution_count": 778,
     "metadata": {},
     "output_type": "execute_result"
    }
   ],
   "source": [
    "df.describe()"
   ]
  },
  {
   "cell_type": "code",
   "execution_count": 779,
   "metadata": {
    "collapsed": false
   },
   "outputs": [
    {
     "data": {
      "text/plain": [
       "domain           int64\n",
       "doc_id          object\n",
       "line             int64\n",
       "section          int64\n",
       "sentence        object\n",
       "final_label     object\n",
       "word_length      int64\n",
       "has_citation     int64\n",
       "has_symbol       int64\n",
       "has_number       int64\n",
       "dtype: object"
      ]
     },
     "execution_count": 779,
     "metadata": {},
     "output_type": "execute_result"
    }
   ],
   "source": [
    "df.dtypes"
   ]
  },
  {
   "cell_type": "code",
   "execution_count": 782,
   "metadata": {
    "collapsed": false
   },
   "outputs": [],
   "source": [
    "from sklearn import preprocessing\n",
    "scaler = preprocessing.MinMaxScaler()\n",
    "df[['line', 'word_length']] = scaler.fit_transform(df[['line', 'word_length']])"
   ]
  },
  {
   "cell_type": "code",
   "execution_count": 783,
   "metadata": {
    "collapsed": false
   },
   "outputs": [],
   "source": [
    "from sklearn.cross_validation import train_test_split\n",
    "from sklearn import preprocessing\n",
    "def split_sentence_data(df):\n",
    "    \n",
    "    \n",
    "    numeric_df = df.select_dtypes(include=['int64']).copy()\n",
    "    \n",
    "    \n",
    "    #scaler = preprocessing.MinMaxScaler()\n",
    "    #X = scaler.fit_transform(numeric_df)\n",
    "    \n",
    "    X = numeric_df.iloc[:].values\n",
    "    y = df.iloc[:, 5].values\n",
    "\n",
    "    return train_test_split(X, y, test_size=0.25, random_state=42)"
   ]
  },
  {
   "cell_type": "code",
   "execution_count": 784,
   "metadata": {
    "collapsed": false
   },
   "outputs": [],
   "source": [
    "X_train, X_test, y_train, y_test = split_sentence_data(df)"
   ]
  },
  {
   "cell_type": "code",
   "execution_count": 793,
   "metadata": {
    "collapsed": false
   },
   "outputs": [],
   "source": [
    "from sklearn.grid_search import GridSearchCV\n",
    "from sklearn.svm import SVC\n",
    "\n",
    "def svc_param_selection(X, y, nfolds):\n",
    "    Cs = [0.01, 0.1, 1, 10]\n",
    "    gammas = [0.01, 0.1, 1]\n",
    "    param_grid = {'C': Cs, 'gamma' : gammas}\n",
    "    clf = svm.SVC(kernel='rbf')\n",
    "    grid_search = GridSearchCV(clf, param_grid, cv=nfolds)\n",
    "    grid_search.fit(X, y)\n",
    "    \n",
    "    return grid_search"
   ]
  },
  {
   "cell_type": "code",
   "execution_count": 790,
   "metadata": {
    "collapsed": true
   },
   "outputs": [],
   "source": [
    "from sklearn.metrics import classification_report\n",
    "def test_results(clf, X_test, y_test):\n",
    "    predictions = clf.predict(X_test)\n",
    "\n",
    "    print \"Accuracy is: \", clf.score(X_test, y_test)\n",
    "    print classification_report(y_test, predictions)\n",
    "    print \"--------------------------\""
   ]
  },
  {
   "cell_type": "code",
   "execution_count": 794,
   "metadata": {
    "collapsed": false
   },
   "outputs": [
    {
     "name": "stdout",
     "output_type": "stream",
     "text": [
      "0.644415917843\n",
      "{'C': 1, 'gamma': 1}\n"
     ]
    }
   ],
   "source": [
    "grid_search = svc_param_selection(X_train, y_train, 10)\n",
    "\n",
    "print grid_search.best_score_\n",
    "print grid_search.best_params_"
   ]
  },
  {
   "cell_type": "code",
   "execution_count": 792,
   "metadata": {
    "collapsed": false
   },
   "outputs": [
    {
     "name": "stdout",
     "output_type": "stream",
     "text": [
      "Accuracy is:  0.257692307692\n",
      "             precision    recall  f1-score   support\n",
      "\n",
      "       AIMX       0.18      0.41      0.25        22\n",
      "       BASE       0.03      0.50      0.06         4\n",
      "       CONT       0.05      0.22      0.09         9\n",
      "       MISC       0.70      0.19      0.30       157\n",
      "       OWNX       0.36      0.35      0.36        68\n",
      "\n",
      "avg / total       0.53      0.26      0.30       260\n",
      "\n",
      "--------------------------\n"
     ]
    }
   ],
   "source": [
    "test_results(grid_search, X_test, y_test)"
   ]
  },
  {
   "cell_type": "code",
   "execution_count": 788,
   "metadata": {
    "collapsed": false
   },
   "outputs": [
    {
     "name": "stdout",
     "output_type": "stream",
     "text": [
      "Accuracy is:  0.630769230769\n",
      "             precision    recall  f1-score   support\n",
      "\n",
      "       AIMX       0.00      0.00      0.00        22\n",
      "       BASE       0.00      0.00      0.00         4\n",
      "       CONT       0.00      0.00      0.00         9\n",
      "       MISC       0.66      0.91      0.76       157\n",
      "       OWNX       0.50      0.31      0.38        68\n",
      "\n",
      "avg / total       0.53      0.63      0.56       260\n",
      "\n",
      "--------------------------\n"
     ]
    }
   ],
   "source": [
    "from sklearn.tree import DecisionTreeClassifier\n",
    "\n",
    "clf = DecisionTreeClassifier(criterion = \"gini\", random_state = 100,\n",
    "                               max_depth=4, min_samples_leaf=5)\n",
    "clf.fit(X_train, y_train)\n",
    "test_results(clf, X_test, y_test)"
   ]
  },
  {
   "cell_type": "code",
   "execution_count": null,
   "metadata": {
    "collapsed": true
   },
   "outputs": [],
   "source": []
  }
 ],
 "metadata": {
  "anaconda-cloud": {},
  "kernelspec": {
   "display_name": "Python [conda root]",
   "language": "python",
   "name": "conda-root-py"
  },
  "language_info": {
   "codemirror_mode": {
    "name": "ipython",
    "version": 2
   },
   "file_extension": ".py",
   "mimetype": "text/x-python",
   "name": "python",
   "nbconvert_exporter": "python",
   "pygments_lexer": "ipython2",
   "version": "2.7.12"
  }
 },
 "nbformat": 4,
 "nbformat_minor": 1
}
